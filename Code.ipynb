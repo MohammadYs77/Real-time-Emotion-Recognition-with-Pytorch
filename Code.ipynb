{
 "cells": [
  {
   "cell_type": "code",
   "execution_count": 1,
   "id": "07985105-5018-48af-8cc3-0eeb446eff7e",
   "metadata": {},
   "outputs": [],
   "source": [
    "import os\n",
    "import torch\n",
    "import cv2 as cv\n",
    "import numpy as np\n",
    "import pandas as pd\n",
    "import seaborn as sns\n",
    "from PIL import Image\n",
    "from tqdm.auto import tqdm\n",
    "import matplotlib.pyplot as plt\n",
    "import sklearn.metrics as metrics\n",
    "from torchview import draw_graph\n",
    "from sklearn.metrics import classification_report\n",
    "\n",
    "import torch.nn as nn\n",
    "import torch.optim as optim\n",
    "from torchvision import models, transforms\n",
    "from torch.utils.data import Dataset, DataLoader"
   ]
  },
  {
   "cell_type": "code",
   "execution_count": 2,
   "id": "7f5d8cce-2f3b-4b0a-a236-8e36594ff47b",
   "metadata": {},
   "outputs": [],
   "source": [
    "label_class = {0: 'angry', 1: 'disgust', 2: 'fear', 3: 'happy', 4: 'neutral', 5: 'sad', 6: 'surprise'}\n",
    "class_label = {v: k for k, v in label_class.items()}\n",
    "device = torch.device('cuda' if torch.cuda.is_available() else 'cpu')\n",
    "RESIZE = 48\n",
    "BATCH_SIZE = 128"
   ]
  },
  {
   "cell_type": "code",
   "execution_count": 3,
   "id": "c68a5c44",
   "metadata": {},
   "outputs": [],
   "source": [
    "normalize = transforms.Normalize(mean=[0.485, 0.456, 0.406], std=[0.229, 0.224, 0.225])\n",
    "\n",
    "data_transforms = {\n",
    "    'Model': {\n",
    "        'train':\n",
    "    transforms.Compose([\n",
    "        transforms.Resize((RESIZE, RESIZE)),\n",
    "        transforms.RandomAffine(0, shear=10, scale=(0.8,1.2)),\n",
    "        transforms.RandomHorizontalFlip(),\n",
    "        transforms.RandomRotation(20),\n",
    "        transforms.ColorJitter(brightness=0.4, contrast=0.4, saturation=0.4, hue=0.4),\n",
    "        transforms.ToTensor(),\n",
    "        normalize\n",
    "    ]),\n",
    "    'other':\n",
    "    transforms.Compose([\n",
    "        transforms.Resize((RESIZE, RESIZE)),\n",
    "        transforms.ToTensor(),\n",
    "        normalize\n",
    "    ])\n",
    "    },\n",
    "    'Others': {\n",
    "        'train':\n",
    "    transforms.Compose([\n",
    "        transforms.Resize((224, 224)),\n",
    "        transforms.RandomAffine(0, shear=10, scale=(0.8,1.2)),\n",
    "        transforms.RandomHorizontalFlip(),\n",
    "        transforms.RandomRotation(20),\n",
    "        transforms.ColorJitter(brightness=0.4, contrast=0.4, saturation=0.4, hue=0.4),\n",
    "        transforms.ToTensor(),\n",
    "        normalize\n",
    "    ]),\n",
    "    'other':\n",
    "    transforms.Compose([\n",
    "        transforms.Resize((224, 224)),\n",
    "        transforms.ToTensor(),\n",
    "        normalize\n",
    "    ])\n",
    "    }\n",
    "}"
   ]
  },
  {
   "cell_type": "code",
   "execution_count": 4,
   "id": "223637b6-c5ff-43b7-95de-62b250ebc7dd",
   "metadata": {},
   "outputs": [],
   "source": [
    "train_base_path = 'images/train/'\n",
    "val_base_path = 'images/validation/'\n",
    "\n",
    "classes = list(label_class.values())\n",
    "\n",
    "tr_paths, tr_lbls = [], []\n",
    "val_paths, val_lbls = [], []\n",
    "\n",
    "for each in classes:\n",
    "\n",
    "    full_path = train_base_path + each + '/'\n",
    "    num_items = os.listdir(full_path)\n",
    "    for itm in num_items:\n",
    "        tr_paths.append(full_path + itm)\n",
    "        tr_lbls.append(class_label[each])\n",
    "        \n",
    "    full_path = val_base_path + each + '/'\n",
    "    num_items = os.listdir(full_path)\n",
    "    for itm in num_items:\n",
    "        val_paths.append(full_path + itm)\n",
    "        val_lbls.append(class_label[each])\n",
    "\n",
    "\n",
    "tr_dict = {'img_id': tr_paths, 'label':tr_lbls}\n",
    "val_dict = {'img_id': val_paths, 'label':val_lbls}\n",
    "\n",
    "tr_df = pd.DataFrame(tr_dict)\n",
    "val_df = pd.DataFrame(val_dict)\n",
    "\n",
    "del tr_dict, val_dict, tr_lbls, val_lbls, tr_paths, val_paths, classes"
   ]
  },
  {
   "cell_type": "code",
   "execution_count": 5,
   "id": "6c6ae347",
   "metadata": {},
   "outputs": [
    {
     "data": {
      "text/html": [
       "<div>\n",
       "<style scoped>\n",
       "    .dataframe tbody tr th:only-of-type {\n",
       "        vertical-align: middle;\n",
       "    }\n",
       "\n",
       "    .dataframe tbody tr th {\n",
       "        vertical-align: top;\n",
       "    }\n",
       "\n",
       "    .dataframe thead th {\n",
       "        text-align: right;\n",
       "    }\n",
       "</style>\n",
       "<table border=\"1\" class=\"dataframe\">\n",
       "  <thead>\n",
       "    <tr style=\"text-align: right;\">\n",
       "      <th></th>\n",
       "      <th>img_id</th>\n",
       "      <th>label</th>\n",
       "    </tr>\n",
       "  </thead>\n",
       "  <tbody>\n",
       "    <tr>\n",
       "      <th>0</th>\n",
       "      <td>images/train/angry/0.jpg</td>\n",
       "      <td>0</td>\n",
       "    </tr>\n",
       "    <tr>\n",
       "      <th>1</th>\n",
       "      <td>images/train/angry/1.jpg</td>\n",
       "      <td>0</td>\n",
       "    </tr>\n",
       "    <tr>\n",
       "      <th>2</th>\n",
       "      <td>images/train/angry/10.jpg</td>\n",
       "      <td>0</td>\n",
       "    </tr>\n",
       "    <tr>\n",
       "      <th>3</th>\n",
       "      <td>images/train/angry/10002.jpg</td>\n",
       "      <td>0</td>\n",
       "    </tr>\n",
       "    <tr>\n",
       "      <th>4</th>\n",
       "      <td>images/train/angry/10016.jpg</td>\n",
       "      <td>0</td>\n",
       "    </tr>\n",
       "  </tbody>\n",
       "</table>\n",
       "</div>"
      ],
      "text/plain": [
       "                         img_id  label\n",
       "0      images/train/angry/0.jpg      0\n",
       "1      images/train/angry/1.jpg      0\n",
       "2     images/train/angry/10.jpg      0\n",
       "3  images/train/angry/10002.jpg      0\n",
       "4  images/train/angry/10016.jpg      0"
      ]
     },
     "execution_count": 5,
     "metadata": {},
     "output_type": "execute_result"
    }
   ],
   "source": [
    "tr_df.head()"
   ]
  },
  {
   "cell_type": "code",
   "execution_count": 6,
   "id": "78414056",
   "metadata": {},
   "outputs": [
    {
     "data": {
      "text/html": [
       "<div>\n",
       "<style scoped>\n",
       "    .dataframe tbody tr th:only-of-type {\n",
       "        vertical-align: middle;\n",
       "    }\n",
       "\n",
       "    .dataframe tbody tr th {\n",
       "        vertical-align: top;\n",
       "    }\n",
       "\n",
       "    .dataframe thead th {\n",
       "        text-align: right;\n",
       "    }\n",
       "</style>\n",
       "<table border=\"1\" class=\"dataframe\">\n",
       "  <thead>\n",
       "    <tr style=\"text-align: right;\">\n",
       "      <th></th>\n",
       "      <th>img_id</th>\n",
       "      <th>label</th>\n",
       "    </tr>\n",
       "  </thead>\n",
       "  <tbody>\n",
       "    <tr>\n",
       "      <th>0</th>\n",
       "      <td>images/validation/angry/10052.jpg</td>\n",
       "      <td>0</td>\n",
       "    </tr>\n",
       "    <tr>\n",
       "      <th>1</th>\n",
       "      <td>images/validation/angry/10065.jpg</td>\n",
       "      <td>0</td>\n",
       "    </tr>\n",
       "    <tr>\n",
       "      <th>2</th>\n",
       "      <td>images/validation/angry/10079.jpg</td>\n",
       "      <td>0</td>\n",
       "    </tr>\n",
       "    <tr>\n",
       "      <th>3</th>\n",
       "      <td>images/validation/angry/10095.jpg</td>\n",
       "      <td>0</td>\n",
       "    </tr>\n",
       "    <tr>\n",
       "      <th>4</th>\n",
       "      <td>images/validation/angry/10121.jpg</td>\n",
       "      <td>0</td>\n",
       "    </tr>\n",
       "  </tbody>\n",
       "</table>\n",
       "</div>"
      ],
      "text/plain": [
       "                              img_id  label\n",
       "0  images/validation/angry/10052.jpg      0\n",
       "1  images/validation/angry/10065.jpg      0\n",
       "2  images/validation/angry/10079.jpg      0\n",
       "3  images/validation/angry/10095.jpg      0\n",
       "4  images/validation/angry/10121.jpg      0"
      ]
     },
     "execution_count": 6,
     "metadata": {},
     "output_type": "execute_result"
    }
   ],
   "source": [
    "val_df.head()"
   ]
  },
  {
   "cell_type": "code",
   "execution_count": 7,
   "id": "eb5bae52",
   "metadata": {},
   "outputs": [
    {
     "data": {
      "text/plain": [
       "Text(0.5, 1.0, 'Emotion Classes and Their Number of Samples')"
      ]
     },
     "execution_count": 7,
     "metadata": {},
     "output_type": "execute_result"
    },
    {
     "data": {
      "image/png": "[encoded data removed]",
      "text/plain": [
       "<Figure size 640x480 with 1 Axes>"
      ]
     },
     "metadata": {},
     "output_type": "display_data"
    }
   ],
   "source": [
    "plt.bar(list(label_class.values()), list(tr_df['label'].value_counts().sort_index()))\n",
    "plt.xlabel(\"Emotion Classes\") \n",
    "plt.ylabel(\"No. of Samples per Emotion Class\") \n",
    "plt.title(\"Emotion Classes and Their Number of Samples\") "
   ]
  },
  {
   "cell_type": "code",
   "execution_count": 8,
   "id": "5eeb63a2",
   "metadata": {},
   "outputs": [],
   "source": [
    "class ImageDataset(Dataset):\n",
    "    def __init__(self, df, transform=None, shuffle_data=True):\n",
    "\n",
    "        self.df = df\n",
    "        self.transform = transform\n",
    "        if shuffle_data:\n",
    "            self.df = self.df.sample(frac=1).reset_index(drop=True)\n",
    "\n",
    "    def __len__(self) -> int:\n",
    "        return len(self.df)\n",
    "\n",
    "    def __getitem__(self, idx) -> tuple:\n",
    "        img = Image.open(self.df.iloc[idx, 0]).convert(\"RGB\")\n",
    "        lbl = self.df.iloc[idx, 1]\n",
    "\n",
    "        if self.transform:\n",
    "            img = self.transform(img)\n",
    "\n",
    "        return img, lbl"
   ]
  },
  {
   "cell_type": "code",
   "execution_count": 9,
   "id": "f7a80654-9d05-4b71-97fd-a2c887b47b52",
   "metadata": {},
   "outputs": [],
   "source": [
    "tr_model_dt = ImageDataset(tr_df, data_transforms['Model']['train'])\n",
    "val_model_dt = ImageDataset(val_df, data_transforms['Model']['other'])\n",
    "tr_other_dt = ImageDataset(tr_df, data_transforms['Others']['train'])\n",
    "val_other_dt = ImageDataset(val_df, data_transforms['Others']['other'])\n",
    "\n",
    "tr_model_loader = DataLoader(tr_model_dt, batch_size=BATCH_SIZE, shuffle=True)\n",
    "val_model_loader = DataLoader(val_model_dt, batch_size=BATCH_SIZE, shuffle=True)\n",
    "tr_other_loader = DataLoader(tr_other_dt, batch_size=BATCH_SIZE, shuffle=True)\n",
    "val_other_loader = DataLoader(val_other_dt, batch_size=BATCH_SIZE, shuffle=True)\n",
    "\n",
    "dataloaders = {\n",
    "    'Model': {\n",
    "        'train': tr_model_loader,\n",
    "        'validation': val_model_loader\n",
    "    },\n",
    "    'Others': {\n",
    "        'train': tr_other_loader,\n",
    "        'validation': val_other_loader\n",
    "    }\n",
    "}"
   ]
  },
  {
   "cell_type": "code",
   "execution_count": 10,
   "id": "83befa68-db62-4ea7-97dd-adbaa0493ec9",
   "metadata": {},
   "outputs": [
    {
     "data": {
      "image/png": "[encoded data removed]",
      "text/plain": [
       "<Figure size 1500x300 with 5 Axes>"
      ]
     },
     "metadata": {},
     "output_type": "display_data"
    }
   ],
   "source": [
    "num_samples = 5\n",
    "random_indices = np.random.randint(0, len(tr_model_dt), num_samples)\n",
    "\n",
    "# Plot the images\n",
    "fig, axes = plt.subplots(1, num_samples, figsize=(15, 3))\n",
    "\n",
    "for i, idx in enumerate(random_indices):\n",
    "    image, label = tr_model_dt[idx]\n",
    "    image = image.permute(1, 2, 0)\n",
    "    axes[i].imshow(np.uint8(np.array(image)))\n",
    "    axes[i].set_title(f\"Emotion: {label_class[label]}\")\n",
    "    axes[i].axis('off')\n",
    "\n",
    "plt.show()"
   ]
  },
  {
   "cell_type": "code",
   "execution_count": 11,
   "id": "0f0d4a0c",
   "metadata": {},
   "outputs": [],
   "source": [
    "del tr_model_loader, val_model_loader, tr_model_dt, val_model_dt, tr_other_loader, val_other_loader, tr_other_dt, val_other_dt"
   ]
  },
  {
   "cell_type": "code",
   "execution_count": 15,
   "id": "304d9f35-26f1-40fb-8aae-23b12ecd73e0",
   "metadata": {},
   "outputs": [],
   "source": [
    "class Model(nn.Module):\n",
    "    def __init__(self, num_features):\n",
    "        \n",
    "        super(Model, self).__init__()\n",
    "        \n",
    "        self.layer1 = nn.Sequential(\n",
    "            nn.Conv2d(num_features, 128, 3, padding=1),\n",
    "            nn.ReLU(),\n",
    "            nn.BatchNorm2d(128),\n",
    "            nn.MaxPool2d(2, 2),\n",
    "            nn.Dropout2d(0.1),\n",
    "            nn.Conv2d(128, 128, 3, padding=1),\n",
    "            nn.ReLU(),\n",
    "            nn.BatchNorm2d(128),\n",
    "            nn.MaxPool2d(2, 2),\n",
    "            nn.Dropout2d(0.1)\n",
    "        )\n",
    "\n",
    "        self.layer2 = nn.Sequential(\n",
    "            nn.Conv2d(128, 256, 3, padding=1),\n",
    "            nn.ReLU(),\n",
    "            nn.BatchNorm2d(256),\n",
    "            nn.MaxPool2d(2, 2),\n",
    "            nn.Dropout2d(0.1),\n",
    "            nn.Conv2d(256, 256, 3, padding=1),\n",
    "            nn.ReLU(),\n",
    "            nn.BatchNorm2d(256),\n",
    "            nn.MaxPool2d(2, 2),\n",
    "            nn.Dropout2d(0.1)\n",
    "        )\n",
    "        \n",
    "        \n",
    "        self.fc = nn.Sequential(\n",
    "            nn.Flatten(),\n",
    "            nn.Linear(256 * 3 * 3, 256, True),\n",
    "            nn.BatchNorm1d(256),\n",
    "            nn.Dropout1d(0.1),\n",
    "            nn.Linear(256, 128, True),\n",
    "            nn.BatchNorm1d(128),\n",
    "            nn.Dropout1d(0.1),\n",
    "            nn.Linear(128, 7, True),\n",
    "        )\n",
    "\n",
    "\n",
    "    \n",
    "    def forward(self, x):\n",
    "\n",
    "        # print(x.shape)\n",
    "        x = self.layer1(x)\n",
    "        # print(x.shape)\n",
    "        x = self.layer2(x)\n",
    "        # print(x.shape)\n",
    "        x = self.fc(x)\n",
    "        # print(x.shape)\n",
    "\n",
    "        return x"
   ]
  },
  {
   "cell_type": "code",
   "execution_count": 16,
   "id": "c93e3caa-29b5-4028-af06-cb7f8d1c5afa",
   "metadata": {},
   "outputs": [],
   "source": [
    "def train_model(data, model, criterion, optimizer, num_epochs=3, return_loss_acc=True):\n",
    "    \n",
    "    if return_loss_acc:\n",
    "        tr_val_history = {'train': [], 'validation': []}\n",
    "        tr_val_acc_history = {'train': [], 'validation': []}\n",
    "    \n",
    "    for epoch in range(num_epochs):\n",
    "        print('-' * 50)\n",
    "        print('Epoch {}/{}'.format(epoch+1, num_epochs))\n",
    "        print('-' * 10)\n",
    "\n",
    "        for phase in ['train', 'validation']:\n",
    "            if phase == 'train':\n",
    "                model.train()\n",
    "            else:\n",
    "                model.eval()\n",
    "\n",
    "            running_loss = 0.0\n",
    "            running_corrects = 0\n",
    "\n",
    "            with tqdm(data[phase], unit='batch', position=0, leave=True) as pbar:\n",
    "                for img, lbl in pbar:\n",
    "\n",
    "                    pbar.set_description(f\"Epoch {epoch+1}\")\n",
    "\n",
    "                    img = img.to(device)\n",
    "                    lbl = lbl.to(device)\n",
    "                    outputs = model(img)\n",
    "                    loss = criterion(outputs, lbl)\n",
    "\n",
    "                    if phase == 'train':\n",
    "                        optimizer.zero_grad()\n",
    "                        loss.backward()\n",
    "                        optimizer.step()\n",
    "\n",
    "                    _, preds = (torch.max(outputs, 1))\n",
    "                    running_loss += loss.item()\n",
    "                    running_corrects += torch.sum(preds == lbl.data)\n",
    "                    pbar.set_postfix(loss=loss.item() / BATCH_SIZE, accuracy=torch.sum(preds == lbl.data).item() / BATCH_SIZE)\n",
    "\n",
    "            epoch_loss = running_loss / len(data[phase])\n",
    "            epoch_acc = running_corrects.double() / len(data[phase])\n",
    "\n",
    "            if return_loss_acc:\n",
    "                tr_val_history[phase].append(epoch_loss)\n",
    "                tr_val_acc_history[phase].append(epoch_acc.item())\n",
    "            \n",
    "            print('{} loss: {:.4f}, acc: {:.4f}'.format(phase,\n",
    "                                                        epoch_loss,\n",
    "                                                        epoch_acc))\n",
    "            \n",
    "    if return_loss_acc:\n",
    "        return model, (tr_val_history, tr_val_acc_history)\n",
    "    return model"
   ]
  },
  {
   "cell_type": "code",
   "execution_count": 17,
   "id": "eb1cfe74",
   "metadata": {},
   "outputs": [
    {
     "name": "stdout",
     "output_type": "stream",
     "text": [
      "--------------------------------------------------\n",
      "Epoch 1/30\n",
      "----------\n"
     ]
    },
    {
     "data": {
      "application/vnd.jupyter.widget-view+json": {
       "model_id": "66c1786c76af48d39c0dd36cb1b4f5ce",
       "version_major": 2,
       "version_minor": 0
      },
      "text/plain": [
       "  0%|          | 0/226 [00:00<?, ?batch/s]"
      ]
     },
     "metadata": {},
     "output_type": "display_data"
    },
    {
     "name": "stdout",
     "output_type": "stream",
     "text": [
      "train loss: 1.7933, acc: 35.6637\n"
     ]
    },
    {
     "data": {
      "application/vnd.jupyter.widget-view+json": {
       "model_id": "58e6c9964f4e40d8b1653386baa91855",
       "version_major": 2,
       "version_minor": 0
      },
      "text/plain": [
       "  0%|          | 0/56 [00:00<?, ?batch/s]"
      ]
     },
     "metadata": {},
     "output_type": "display_data"
    },
    {
     "name": "stdout",
     "output_type": "stream",
     "text": [
      "validation loss: 1.5188, acc: 53.5000\n",
      "--------------------------------------------------\n",
      "Epoch 2/30\n",
      "----------\n"
     ]
    },
    {
     "data": {
      "application/vnd.jupyter.widget-view+json": {
       "model_id": "f4056b57c7534e2da9b67146a7ddc042",
       "version_major": 2,
       "version_minor": 0
      },
      "text/plain": [
       "  0%|          | 0/226 [00:00<?, ?batch/s]"
      ]
     },
     "metadata": {},
     "output_type": "display_data"
    },
    {
     "name": "stdout",
     "output_type": "stream",
     "text": [
      "train loss: 1.5646, acc: 49.0221\n"
     ]
    },
    {
     "data": {
      "application/vnd.jupyter.widget-view+json": {
       "model_id": "fcabbf19566f4b048861e808eac4613c",
       "version_major": 2,
       "version_minor": 0
      },
      "text/plain": [
       "  0%|          | 0/56 [00:00<?, ?batch/s]"
      ]
     },
     "metadata": {},
     "output_type": "display_data"
    },
    {
     "name": "stdout",
     "output_type": "stream",
     "text": [
      "validation loss: 1.3253, acc: 62.3571\n",
      "--------------------------------------------------\n",
      "Epoch 3/30\n",
      "----------\n"
     ]
    },
    {
     "data": {
      "application/vnd.jupyter.widget-view+json": {
       "model_id": "6a173afa351c4eed8cc33d8a738348d6",
       "version_major": 2,
       "version_minor": 0
      },
      "text/plain": [
       "  0%|          | 0/226 [00:00<?, ?batch/s]"
      ]
     },
     "metadata": {},
     "output_type": "display_data"
    },
    {
     "name": "stdout",
     "output_type": "stream",
     "text": [
      "train loss: 1.4765, acc: 54.2611\n"
     ]
    },
    {
     "data": {
      "application/vnd.jupyter.widget-view+json": {
       "model_id": "cba9c3a9daee42f49922ff54b3e42e19",
       "version_major": 2,
       "version_minor": 0
      },
      "text/plain": [
       "  0%|          | 0/56 [00:00<?, ?batch/s]"
      ]
     },
     "metadata": {},
     "output_type": "display_data"
    },
    {
     "name": "stdout",
     "output_type": "stream",
     "text": [
      "validation loss: 1.2311, acc: 66.8393\n",
      "--------------------------------------------------\n",
      "Epoch 4/30\n",
      "----------\n"
     ]
    },
    {
     "data": {
      "application/vnd.jupyter.widget-view+json": {
       "model_id": "c2fc05da4eda42f4b37d6df3282b9688",
       "version_major": 2,
       "version_minor": 0
      },
      "text/plain": [
       "  0%|          | 0/226 [00:00<?, ?batch/s]"
      ]
     },
     "metadata": {},
     "output_type": "display_data"
    },
    {
     "name": "stdout",
     "output_type": "stream",
     "text": [
      "train loss: 1.4264, acc: 56.8628\n"
     ]
    },
    {
     "data": {
      "application/vnd.jupyter.widget-view+json": {
       "model_id": "1f2f5048ce634aa79b8077638b098b34",
       "version_major": 2,
       "version_minor": 0
      },
      "text/plain": [
       "  0%|          | 0/56 [00:00<?, ?batch/s]"
      ]
     },
     "metadata": {},
     "output_type": "display_data"
    },
    {
     "name": "stdout",
     "output_type": "stream",
     "text": [
      "validation loss: 1.1882, acc: 68.7143\n",
      "--------------------------------------------------\n",
      "Epoch 5/30\n",
      "----------\n"
     ]
    },
    {
     "data": {
      "application/vnd.jupyter.widget-view+json": {
       "model_id": "434b4cbd285a445ca4bdfd97e03271d3",
       "version_major": 2,
       "version_minor": 0
      },
      "text/plain": [
       "  0%|          | 0/226 [00:00<?, ?batch/s]"
      ]
     },
     "metadata": {},
     "output_type": "display_data"
    },
    {
     "name": "stdout",
     "output_type": "stream",
     "text": [
      "train loss: 1.3980, acc: 58.6106\n"
     ]
    },
    {
     "data": {
      "application/vnd.jupyter.widget-view+json": {
       "model_id": "0abe4a7ce79f4d08ad8d0101d09c7ee9",
       "version_major": 2,
       "version_minor": 0
      },
      "text/plain": [
       "  0%|          | 0/56 [00:00<?, ?batch/s]"
      ]
     },
     "metadata": {},
     "output_type": "display_data"
    },
    {
     "name": "stdout",
     "output_type": "stream",
     "text": [
      "validation loss: 1.2256, acc: 68.0714\n",
      "--------------------------------------------------\n",
      "Epoch 6/30\n",
      "----------\n"
     ]
    },
    {
     "data": {
      "application/vnd.jupyter.widget-view+json": {
       "model_id": "e307b0d2a232422e87c5fc4dd63430bc",
       "version_major": 2,
       "version_minor": 0
      },
      "text/plain": [
       "  0%|          | 0/226 [00:00<?, ?batch/s]"
      ]
     },
     "metadata": {},
     "output_type": "display_data"
    },
    {
     "name": "stdout",
     "output_type": "stream",
     "text": [
      "train loss: 1.3715, acc: 59.8053\n"
     ]
    },
    {
     "data": {
      "application/vnd.jupyter.widget-view+json": {
       "model_id": "837721a85af14c06b0d10b74956b264c",
       "version_major": 2,
       "version_minor": 0
      },
      "text/plain": [
       "  0%|          | 0/56 [00:00<?, ?batch/s]"
      ]
     },
     "metadata": {},
     "output_type": "display_data"
    },
    {
     "name": "stdout",
     "output_type": "stream",
     "text": [
      "validation loss: 1.1488, acc: 71.5536\n",
      "--------------------------------------------------\n",
      "Epoch 7/30\n",
      "----------\n"
     ]
    },
    {
     "data": {
      "application/vnd.jupyter.widget-view+json": {
       "model_id": "b14c91f703d840bda5f2a0c003fb62f7",
       "version_major": 2,
       "version_minor": 0
      },
      "text/plain": [
       "  0%|          | 0/226 [00:00<?, ?batch/s]"
      ]
     },
     "metadata": {},
     "output_type": "display_data"
    },
    {
     "name": "stdout",
     "output_type": "stream",
     "text": [
      "train loss: 1.3508, acc: 60.5619\n"
     ]
    },
    {
     "data": {
      "application/vnd.jupyter.widget-view+json": {
       "model_id": "d0701ccddfa6414e8d2c03e79c25e877",
       "version_major": 2,
       "version_minor": 0
      },
      "text/plain": [
       "  0%|          | 0/56 [00:00<?, ?batch/s]"
      ]
     },
     "metadata": {},
     "output_type": "display_data"
    },
    {
     "name": "stdout",
     "output_type": "stream",
     "text": [
      "validation loss: 1.1213, acc: 73.1607\n",
      "--------------------------------------------------\n",
      "Epoch 8/30\n",
      "----------\n"
     ]
    },
    {
     "data": {
      "application/vnd.jupyter.widget-view+json": {
       "model_id": "ddd925a8988f4ec1aa9cb0b772414d08",
       "version_major": 2,
       "version_minor": 0
      },
      "text/plain": [
       "  0%|          | 0/226 [00:00<?, ?batch/s]"
      ]
     },
     "metadata": {},
     "output_type": "display_data"
    },
    {
     "name": "stdout",
     "output_type": "stream",
     "text": [
      "train loss: 1.3278, acc: 61.6195\n"
     ]
    },
    {
     "data": {
      "application/vnd.jupyter.widget-view+json": {
       "model_id": "72bf3adf3cc94d6285608b146c3d5ca5",
       "version_major": 2,
       "version_minor": 0
      },
      "text/plain": [
       "  0%|          | 0/56 [00:00<?, ?batch/s]"
      ]
     },
     "metadata": {},
     "output_type": "display_data"
    },
    {
     "name": "stdout",
     "output_type": "stream",
     "text": [
      "validation loss: 1.1067, acc: 73.6964\n",
      "--------------------------------------------------\n",
      "Epoch 9/30\n",
      "----------\n"
     ]
    },
    {
     "data": {
      "application/vnd.jupyter.widget-view+json": {
       "model_id": "35c6a6c7d9da4dd28a6622cf9d63447e",
       "version_major": 2,
       "version_minor": 0
      },
      "text/plain": [
       "  0%|          | 0/226 [00:00<?, ?batch/s]"
      ]
     },
     "metadata": {},
     "output_type": "display_data"
    },
    {
     "name": "stdout",
     "output_type": "stream",
     "text": [
      "train loss: 1.3254, acc: 61.9602\n"
     ]
    },
    {
     "data": {
      "application/vnd.jupyter.widget-view+json": {
       "model_id": "3b4865fada714a878a75ef7f94473a22",
       "version_major": 2,
       "version_minor": 0
      },
      "text/plain": [
       "  0%|          | 0/56 [00:00<?, ?batch/s]"
      ]
     },
     "metadata": {},
     "output_type": "display_data"
    },
    {
     "name": "stdout",
     "output_type": "stream",
     "text": [
      "validation loss: 1.0825, acc: 74.2679\n",
      "--------------------------------------------------\n",
      "Epoch 10/30\n",
      "----------\n"
     ]
    },
    {
     "data": {
      "application/vnd.jupyter.widget-view+json": {
       "model_id": "4c01376172924c7097106c2e24a7b174",
       "version_major": 2,
       "version_minor": 0
      },
      "text/plain": [
       "  0%|          | 0/226 [00:00<?, ?batch/s]"
      ]
     },
     "metadata": {},
     "output_type": "display_data"
    },
    {
     "name": "stdout",
     "output_type": "stream",
     "text": [
      "train loss: 1.3050, acc: 62.9115\n"
     ]
    },
    {
     "data": {
      "application/vnd.jupyter.widget-view+json": {
       "model_id": "a87232e3066244e2be6099b51cc704f7",
       "version_major": 2,
       "version_minor": 0
      },
      "text/plain": [
       "  0%|          | 0/56 [00:00<?, ?batch/s]"
      ]
     },
     "metadata": {},
     "output_type": "display_data"
    },
    {
     "name": "stdout",
     "output_type": "stream",
     "text": [
      "validation loss: 1.0825, acc: 74.3214\n",
      "--------------------------------------------------\n",
      "Epoch 11/30\n",
      "----------\n"
     ]
    },
    {
     "data": {
      "application/vnd.jupyter.widget-view+json": {
       "model_id": "45afefcafc344fc5900e53b39e2452af",
       "version_major": 2,
       "version_minor": 0
      },
      "text/plain": [
       "  0%|          | 0/226 [00:00<?, ?batch/s]"
      ]
     },
     "metadata": {},
     "output_type": "display_data"
    },
    {
     "name": "stdout",
     "output_type": "stream",
     "text": [
      "train loss: 1.2935, acc: 63.5044\n"
     ]
    },
    {
     "data": {
      "application/vnd.jupyter.widget-view+json": {
       "model_id": "75fc0989cd6d40fcaf0fa713ac3d16d0",
       "version_major": 2,
       "version_minor": 0
      },
      "text/plain": [
       "  0%|          | 0/56 [00:00<?, ?batch/s]"
      ]
     },
     "metadata": {},
     "output_type": "display_data"
    },
    {
     "name": "stdout",
     "output_type": "stream",
     "text": [
      "validation loss: 1.0854, acc: 73.5536\n",
      "--------------------------------------------------\n",
      "Epoch 12/30\n",
      "----------\n"
     ]
    },
    {
     "data": {
      "application/vnd.jupyter.widget-view+json": {
       "model_id": "a5a0ab9586eb4fe390ac4e1afc28a3cd",
       "version_major": 2,
       "version_minor": 0
      },
      "text/plain": [
       "  0%|          | 0/226 [00:00<?, ?batch/s]"
      ]
     },
     "metadata": {},
     "output_type": "display_data"
    },
    {
     "name": "stdout",
     "output_type": "stream",
     "text": [
      "train loss: 1.2840, acc: 64.0929\n"
     ]
    },
    {
     "data": {
      "application/vnd.jupyter.widget-view+json": {
       "model_id": "8fae5e3c18c342f8ac3b8d11c7846026",
       "version_major": 2,
       "version_minor": 0
      },
      "text/plain": [
       "  0%|          | 0/56 [00:00<?, ?batch/s]"
      ]
     },
     "metadata": {},
     "output_type": "display_data"
    },
    {
     "name": "stdout",
     "output_type": "stream",
     "text": [
      "validation loss: 1.0666, acc: 75.5893\n",
      "--------------------------------------------------\n",
      "Epoch 13/30\n",
      "----------\n"
     ]
    },
    {
     "data": {
      "application/vnd.jupyter.widget-view+json": {
       "model_id": "08cac257f4a74eab9b2f95878868ddab",
       "version_major": 2,
       "version_minor": 0
      },
      "text/plain": [
       "  0%|          | 0/226 [00:00<?, ?batch/s]"
      ]
     },
     "metadata": {},
     "output_type": "display_data"
    },
    {
     "name": "stdout",
     "output_type": "stream",
     "text": [
      "train loss: 1.2704, acc: 64.8717\n"
     ]
    },
    {
     "data": {
      "application/vnd.jupyter.widget-view+json": {
       "model_id": "6e8573f4483c4b9fbd256da7e51ca717",
       "version_major": 2,
       "version_minor": 0
      },
      "text/plain": [
       "  0%|          | 0/56 [00:00<?, ?batch/s]"
      ]
     },
     "metadata": {},
     "output_type": "display_data"
    },
    {
     "name": "stdout",
     "output_type": "stream",
     "text": [
      "validation loss: 1.0486, acc: 76.7143\n",
      "--------------------------------------------------\n",
      "Epoch 14/30\n",
      "----------\n"
     ]
    },
    {
     "data": {
      "application/vnd.jupyter.widget-view+json": {
       "model_id": "d7169c0fb5894b03849ce6fa78b71b42",
       "version_major": 2,
       "version_minor": 0
      },
      "text/plain": [
       "  0%|          | 0/226 [00:00<?, ?batch/s]"
      ]
     },
     "metadata": {},
     "output_type": "display_data"
    },
    {
     "name": "stdout",
     "output_type": "stream",
     "text": [
      "train loss: 1.2578, acc: 65.8894\n"
     ]
    },
    {
     "data": {
      "application/vnd.jupyter.widget-view+json": {
       "model_id": "39cf730e353143c9b10f7043f8f8cbfd",
       "version_major": 2,
       "version_minor": 0
      },
      "text/plain": [
       "  0%|          | 0/56 [00:00<?, ?batch/s]"
      ]
     },
     "metadata": {},
     "output_type": "display_data"
    },
    {
     "name": "stdout",
     "output_type": "stream",
     "text": [
      "validation loss: 1.0700, acc: 75.5714\n",
      "--------------------------------------------------\n",
      "Epoch 15/30\n",
      "----------\n"
     ]
    },
    {
     "data": {
      "application/vnd.jupyter.widget-view+json": {
       "model_id": "6c08b818364a4b2e8b73da174b7b894e",
       "version_major": 2,
       "version_minor": 0
      },
      "text/plain": [
       "  0%|          | 0/226 [00:00<?, ?batch/s]"
      ]
     },
     "metadata": {},
     "output_type": "display_data"
    },
    {
     "name": "stdout",
     "output_type": "stream",
     "text": [
      "train loss: 1.2584, acc: 65.0885\n"
     ]
    },
    {
     "data": {
      "application/vnd.jupyter.widget-view+json": {
       "model_id": "5614ae7bcb224a7aab938d76b5317b02",
       "version_major": 2,
       "version_minor": 0
      },
      "text/plain": [
       "  0%|          | 0/56 [00:00<?, ?batch/s]"
      ]
     },
     "metadata": {},
     "output_type": "display_data"
    },
    {
     "name": "stdout",
     "output_type": "stream",
     "text": [
      "validation loss: 1.0480, acc: 75.9107\n",
      "--------------------------------------------------\n",
      "Epoch 16/30\n",
      "----------\n"
     ]
    },
    {
     "data": {
      "application/vnd.jupyter.widget-view+json": {
       "model_id": "b4bdb253d1bc4fea9884aedf440ee0c5",
       "version_major": 2,
       "version_minor": 0
      },
      "text/plain": [
       "  0%|          | 0/226 [00:00<?, ?batch/s]"
      ]
     },
     "metadata": {},
     "output_type": "display_data"
    },
    {
     "name": "stdout",
     "output_type": "stream",
     "text": [
      "train loss: 1.2528, acc: 66.0265\n"
     ]
    },
    {
     "data": {
      "application/vnd.jupyter.widget-view+json": {
       "model_id": "6a55324e24224380a79f52e993a3864a",
       "version_major": 2,
       "version_minor": 0
      },
      "text/plain": [
       "  0%|          | 0/56 [00:00<?, ?batch/s]"
      ]
     },
     "metadata": {},
     "output_type": "display_data"
    },
    {
     "name": "stdout",
     "output_type": "stream",
     "text": [
      "validation loss: 1.0389, acc: 77.0893\n",
      "--------------------------------------------------\n",
      "Epoch 17/30\n",
      "----------\n"
     ]
    },
    {
     "data": {
      "application/vnd.jupyter.widget-view+json": {
       "model_id": "ace86c022d124e6081345a4bdcfebd41",
       "version_major": 2,
       "version_minor": 0
      },
      "text/plain": [
       "  0%|          | 0/226 [00:00<?, ?batch/s]"
      ]
     },
     "metadata": {},
     "output_type": "display_data"
    },
    {
     "name": "stdout",
     "output_type": "stream",
     "text": [
      "train loss: 1.2473, acc: 65.5973\n"
     ]
    },
    {
     "data": {
      "application/vnd.jupyter.widget-view+json": {
       "model_id": "2c37dc55581c4be6b7020af1cae4c3eb",
       "version_major": 2,
       "version_minor": 0
      },
      "text/plain": [
       "  0%|          | 0/56 [00:00<?, ?batch/s]"
      ]
     },
     "metadata": {},
     "output_type": "display_data"
    },
    {
     "name": "stdout",
     "output_type": "stream",
     "text": [
      "validation loss: 1.0313, acc: 77.0000\n",
      "--------------------------------------------------\n",
      "Epoch 18/30\n",
      "----------\n"
     ]
    },
    {
     "data": {
      "application/vnd.jupyter.widget-view+json": {
       "model_id": "a8dd9d06f5fe480e96541545133d7bf9",
       "version_major": 2,
       "version_minor": 0
      },
      "text/plain": [
       "  0%|          | 0/226 [00:00<?, ?batch/s]"
      ]
     },
     "metadata": {},
     "output_type": "display_data"
    },
    {
     "name": "stdout",
     "output_type": "stream",
     "text": [
      "train loss: 1.2382, acc: 66.5398\n"
     ]
    },
    {
     "data": {
      "application/vnd.jupyter.widget-view+json": {
       "model_id": "775e4c77763741b382cd24fb43dfa506",
       "version_major": 2,
       "version_minor": 0
      },
      "text/plain": [
       "  0%|          | 0/56 [00:00<?, ?batch/s]"
      ]
     },
     "metadata": {},
     "output_type": "display_data"
    },
    {
     "name": "stdout",
     "output_type": "stream",
     "text": [
      "validation loss: 1.0206, acc: 78.0000\n",
      "--------------------------------------------------\n",
      "Epoch 19/30\n",
      "----------\n"
     ]
    },
    {
     "data": {
      "application/vnd.jupyter.widget-view+json": {
       "model_id": "6b5b96f4d5a0495187591a67e582d993",
       "version_major": 2,
       "version_minor": 0
      },
      "text/plain": [
       "  0%|          | 0/226 [00:00<?, ?batch/s]"
      ]
     },
     "metadata": {},
     "output_type": "display_data"
    },
    {
     "name": "stdout",
     "output_type": "stream",
     "text": [
      "train loss: 1.2295, acc: 66.2611\n"
     ]
    },
    {
     "data": {
      "application/vnd.jupyter.widget-view+json": {
       "model_id": "fb5568fe430d47718253c15f0a16d6ff",
       "version_major": 2,
       "version_minor": 0
      },
      "text/plain": [
       "  0%|          | 0/56 [00:00<?, ?batch/s]"
      ]
     },
     "metadata": {},
     "output_type": "display_data"
    },
    {
     "name": "stdout",
     "output_type": "stream",
     "text": [
      "validation loss: 1.0227, acc: 77.6071\n",
      "--------------------------------------------------\n",
      "Epoch 20/30\n",
      "----------\n"
     ]
    },
    {
     "data": {
      "application/vnd.jupyter.widget-view+json": {
       "model_id": "2c3c864b7c7348e19ebf1810b2da26f0",
       "version_major": 2,
       "version_minor": 0
      },
      "text/plain": [
       "  0%|          | 0/226 [00:00<?, ?batch/s]"
      ]
     },
     "metadata": {},
     "output_type": "display_data"
    },
    {
     "name": "stdout",
     "output_type": "stream",
     "text": [
      "train loss: 1.2225, acc: 67.2788\n"
     ]
    },
    {
     "data": {
      "application/vnd.jupyter.widget-view+json": {
       "model_id": "1e56cd5ff8d840ac8b6a8b1fd653c5a5",
       "version_major": 2,
       "version_minor": 0
      },
      "text/plain": [
       "  0%|          | 0/56 [00:00<?, ?batch/s]"
      ]
     },
     "metadata": {},
     "output_type": "display_data"
    },
    {
     "name": "stdout",
     "output_type": "stream",
     "text": [
      "validation loss: 1.0120, acc: 78.5179\n",
      "--------------------------------------------------\n",
      "Epoch 21/30\n",
      "----------\n"
     ]
    },
    {
     "data": {
      "application/vnd.jupyter.widget-view+json": {
       "model_id": "66a679bb8113460192b76b59ca4ba344",
       "version_major": 2,
       "version_minor": 0
      },
      "text/plain": [
       "  0%|          | 0/226 [00:00<?, ?batch/s]"
      ]
     },
     "metadata": {},
     "output_type": "display_data"
    },
    {
     "name": "stdout",
     "output_type": "stream",
     "text": [
      "train loss: 1.2238, acc: 67.3496\n"
     ]
    },
    {
     "data": {
      "application/vnd.jupyter.widget-view+json": {
       "model_id": "5c59d633ee28418f93c529ed3eedb175",
       "version_major": 2,
       "version_minor": 0
      },
      "text/plain": [
       "  0%|          | 0/56 [00:00<?, ?batch/s]"
      ]
     },
     "metadata": {},
     "output_type": "display_data"
    },
    {
     "name": "stdout",
     "output_type": "stream",
     "text": [
      "validation loss: 0.9969, acc: 79.4643\n",
      "--------------------------------------------------\n",
      "Epoch 22/30\n",
      "----------\n"
     ]
    },
    {
     "data": {
      "application/vnd.jupyter.widget-view+json": {
       "model_id": "1bc9a930596d4d38a971d4eb1d39cb92",
       "version_major": 2,
       "version_minor": 0
      },
      "text/plain": [
       "  0%|          | 0/226 [00:00<?, ?batch/s]"
      ]
     },
     "metadata": {},
     "output_type": "display_data"
    },
    {
     "name": "stdout",
     "output_type": "stream",
     "text": [
      "train loss: 1.2058, acc: 68.2876\n"
     ]
    },
    {
     "data": {
      "application/vnd.jupyter.widget-view+json": {
       "model_id": "e967f9fc680d40599152713bc22d8ca1",
       "version_major": 2,
       "version_minor": 0
      },
      "text/plain": [
       "  0%|          | 0/56 [00:00<?, ?batch/s]"
      ]
     },
     "metadata": {},
     "output_type": "display_data"
    },
    {
     "name": "stdout",
     "output_type": "stream",
     "text": [
      "validation loss: 0.9895, acc: 79.0179\n",
      "--------------------------------------------------\n",
      "Epoch 23/30\n",
      "----------\n"
     ]
    },
    {
     "data": {
      "application/vnd.jupyter.widget-view+json": {
       "model_id": "dd1a40269a7f48d1a8a54e55e0a647ad",
       "version_major": 2,
       "version_minor": 0
      },
      "text/plain": [
       "  0%|          | 0/226 [00:00<?, ?batch/s]"
      ]
     },
     "metadata": {},
     "output_type": "display_data"
    },
    {
     "name": "stdout",
     "output_type": "stream",
     "text": [
      "train loss: 1.2092, acc: 68.2124\n"
     ]
    },
    {
     "data": {
      "application/vnd.jupyter.widget-view+json": {
       "model_id": "f058f5986d7b44d0a8c6578d64608f5a",
       "version_major": 2,
       "version_minor": 0
      },
      "text/plain": [
       "  0%|          | 0/56 [00:00<?, ?batch/s]"
      ]
     },
     "metadata": {},
     "output_type": "display_data"
    },
    {
     "name": "stdout",
     "output_type": "stream",
     "text": [
      "validation loss: 0.9941, acc: 79.3214\n",
      "--------------------------------------------------\n",
      "Epoch 24/30\n",
      "----------\n"
     ]
    },
    {
     "data": {
      "application/vnd.jupyter.widget-view+json": {
       "model_id": "5ab8abdea0e043bfa5d8ada1a01e80a4",
       "version_major": 2,
       "version_minor": 0
      },
      "text/plain": [
       "  0%|          | 0/226 [00:00<?, ?batch/s]"
      ]
     },
     "metadata": {},
     "output_type": "display_data"
    },
    {
     "name": "stdout",
     "output_type": "stream",
     "text": [
      "train loss: 1.2012, acc: 67.8850\n"
     ]
    },
    {
     "data": {
      "application/vnd.jupyter.widget-view+json": {
       "model_id": "7f4ea15d149449e880c9307550b72102",
       "version_major": 2,
       "version_minor": 0
      },
      "text/plain": [
       "  0%|          | 0/56 [00:00<?, ?batch/s]"
      ]
     },
     "metadata": {},
     "output_type": "display_data"
    },
    {
     "name": "stdout",
     "output_type": "stream",
     "text": [
      "validation loss: 1.0067, acc: 78.8929\n",
      "--------------------------------------------------\n",
      "Epoch 25/30\n",
      "----------\n"
     ]
    },
    {
     "data": {
      "application/vnd.jupyter.widget-view+json": {
       "model_id": "37207359e67747f1802e4eeb29805019",
       "version_major": 2,
       "version_minor": 0
      },
      "text/plain": [
       "  0%|          | 0/226 [00:00<?, ?batch/s]"
      ]
     },
     "metadata": {},
     "output_type": "display_data"
    },
    {
     "name": "stdout",
     "output_type": "stream",
     "text": [
      "train loss: 1.1975, acc: 68.3451\n"
     ]
    },
    {
     "data": {
      "application/vnd.jupyter.widget-view+json": {
       "model_id": "a532e26d7228479e8f656be0ed4ed489",
       "version_major": 2,
       "version_minor": 0
      },
      "text/plain": [
       "  0%|          | 0/56 [00:00<?, ?batch/s]"
      ]
     },
     "metadata": {},
     "output_type": "display_data"
    },
    {
     "name": "stdout",
     "output_type": "stream",
     "text": [
      "validation loss: 1.0057, acc: 78.7321\n",
      "--------------------------------------------------\n",
      "Epoch 26/30\n",
      "----------\n"
     ]
    },
    {
     "data": {
      "application/vnd.jupyter.widget-view+json": {
       "model_id": "6ddc2fb7d1874d079444b7686e7271ea",
       "version_major": 2,
       "version_minor": 0
      },
      "text/plain": [
       "  0%|          | 0/226 [00:00<?, ?batch/s]"
      ]
     },
     "metadata": {},
     "output_type": "display_data"
    },
    {
     "name": "stdout",
     "output_type": "stream",
     "text": [
      "train loss: 1.2000, acc: 67.8274\n"
     ]
    },
    {
     "data": {
      "application/vnd.jupyter.widget-view+json": {
       "model_id": "6689863acb6949599278a1dd5296a811",
       "version_major": 2,
       "version_minor": 0
      },
      "text/plain": [
       "  0%|          | 0/56 [00:00<?, ?batch/s]"
      ]
     },
     "metadata": {},
     "output_type": "display_data"
    },
    {
     "name": "stdout",
     "output_type": "stream",
     "text": [
      "validation loss: 0.9994, acc: 78.7321\n",
      "--------------------------------------------------\n",
      "Epoch 27/30\n",
      "----------\n"
     ]
    },
    {
     "data": {
      "application/vnd.jupyter.widget-view+json": {
       "model_id": "59b824b9aff54da2a380df3f98a097cd",
       "version_major": 2,
       "version_minor": 0
      },
      "text/plain": [
       "  0%|          | 0/226 [00:00<?, ?batch/s]"
      ]
     },
     "metadata": {},
     "output_type": "display_data"
    },
    {
     "name": "stdout",
     "output_type": "stream",
     "text": [
      "train loss: 1.1893, acc: 68.8274\n"
     ]
    },
    {
     "data": {
      "application/vnd.jupyter.widget-view+json": {
       "model_id": "e13e802790e14f658d5e0c38ae26b960",
       "version_major": 2,
       "version_minor": 0
      },
      "text/plain": [
       "  0%|          | 0/56 [00:00<?, ?batch/s]"
      ]
     },
     "metadata": {},
     "output_type": "display_data"
    },
    {
     "name": "stdout",
     "output_type": "stream",
     "text": [
      "validation loss: 0.9821, acc: 79.3036\n",
      "--------------------------------------------------\n",
      "Epoch 28/30\n",
      "----------\n"
     ]
    },
    {
     "data": {
      "application/vnd.jupyter.widget-view+json": {
       "model_id": "93593e874748425a830794e28344601c",
       "version_major": 2,
       "version_minor": 0
      },
      "text/plain": [
       "  0%|          | 0/226 [00:00<?, ?batch/s]"
      ]
     },
     "metadata": {},
     "output_type": "display_data"
    },
    {
     "name": "stdout",
     "output_type": "stream",
     "text": [
      "train loss: 1.1921, acc: 68.6460\n"
     ]
    },
    {
     "data": {
      "application/vnd.jupyter.widget-view+json": {
       "model_id": "4c884b111f804705836e4f15c6d5268f",
       "version_major": 2,
       "version_minor": 0
      },
      "text/plain": [
       "  0%|          | 0/56 [00:00<?, ?batch/s]"
      ]
     },
     "metadata": {},
     "output_type": "display_data"
    },
    {
     "name": "stdout",
     "output_type": "stream",
     "text": [
      "validation loss: 0.9851, acc: 79.9107\n",
      "--------------------------------------------------\n",
      "Epoch 29/30\n",
      "----------\n"
     ]
    },
    {
     "data": {
      "application/vnd.jupyter.widget-view+json": {
       "model_id": "9bd29a6b6ab841838eb56d946abd14d8",
       "version_major": 2,
       "version_minor": 0
      },
      "text/plain": [
       "  0%|          | 0/226 [00:00<?, ?batch/s]"
      ]
     },
     "metadata": {},
     "output_type": "display_data"
    },
    {
     "name": "stdout",
     "output_type": "stream",
     "text": [
      "train loss: 1.1748, acc: 69.6814\n"
     ]
    },
    {
     "data": {
      "application/vnd.jupyter.widget-view+json": {
       "model_id": "33fc9c12b9dd4611b9cebb0042d3d6ef",
       "version_major": 2,
       "version_minor": 0
      },
      "text/plain": [
       "  0%|          | 0/56 [00:00<?, ?batch/s]"
      ]
     },
     "metadata": {},
     "output_type": "display_data"
    },
    {
     "name": "stdout",
     "output_type": "stream",
     "text": [
      "validation loss: 0.9959, acc: 79.1786\n",
      "--------------------------------------------------\n",
      "Epoch 30/30\n",
      "----------\n"
     ]
    },
    {
     "data": {
      "application/vnd.jupyter.widget-view+json": {
       "model_id": "d6a56c74dc0445b192a55cd7deb4bf3d",
       "version_major": 2,
       "version_minor": 0
      },
      "text/plain": [
       "  0%|          | 0/226 [00:00<?, ?batch/s]"
      ]
     },
     "metadata": {},
     "output_type": "display_data"
    },
    {
     "name": "stdout",
     "output_type": "stream",
     "text": [
      "train loss: 1.1767, acc: 69.0177\n"
     ]
    },
    {
     "data": {
      "application/vnd.jupyter.widget-view+json": {
       "model_id": "a7303736ad87428f9ab675fd80be093c",
       "version_major": 2,
       "version_minor": 0
      },
      "text/plain": [
       "  0%|          | 0/56 [00:00<?, ?batch/s]"
      ]
     },
     "metadata": {},
     "output_type": "display_data"
    },
    {
     "name": "stdout",
     "output_type": "stream",
     "text": [
      "validation loss: 0.9700, acc: 80.0536\n"
     ]
    }
   ],
   "source": [
    "model = Model(3).to(device)\n",
    "opt = optim.Adam(model.parameters(), lr = 0.001)\n",
    "criterion = nn.CrossEntropyLoss()\n",
    "\n",
    "EPOCH = 30\n",
    "\n",
    "model_trained, history = train_model(dataloaders['Model'], model, criterion, opt, EPOCH)"
   ]
  },
  {
   "cell_type": "code",
   "execution_count": 18,
   "id": "920a2f2a",
   "metadata": {},
   "outputs": [],
   "source": [
    "def plot_loss_acc(history):\n",
    "    plt.figure(figsize=(16, 8))\n",
    "    plt.subplot(1, 2, 1)\n",
    "    plt.plot(history[0]['train'], label='Train Loss')\n",
    "    plt.plot(history[0]['validation'], label='Validation Loss')\n",
    "    plt.xlabel('Epoch')\n",
    "    plt.ylabel('Loss')\n",
    "    plt.legend()\n",
    "    plt.subplot(1, 2, 2)\n",
    "    plt.plot(history[1]['train'], label='Train Accuracy')\n",
    "    plt.plot(history[1]['validation'], label='Validation Accuracy')\n",
    "    plt.xlabel('Epoch')\n",
    "    plt.ylabel('Accuracy in %')\n",
    "    plt.legend()"
   ]
  },
  {
   "cell_type": "code",
   "execution_count": 19,
   "id": "c441a8c6-814c-4594-9b86-46407fcb8061",
   "metadata": {},
   "outputs": [
    {
     "data": {
      "image/png": "[encoded data removed]",
      "text/plain": [
       "<Figure size 1600x800 with 2 Axes>"
      ]
     },
     "metadata": {},
     "output_type": "display_data"
    }
   ],
   "source": [
    "plot_loss_acc(history)"
   ]
  },
  {
   "cell_type": "code",
   "execution_count": 20,
   "id": "9beda478",
   "metadata": {},
   "outputs": [],
   "source": [
    "torch.save(model_trained, './model/model.pth')"
   ]
  },
  {
   "cell_type": "code",
   "execution_count": 21,
   "id": "acac961a",
   "metadata": {},
   "outputs": [],
   "source": [
    "def renderer(model, data):\n",
    "\n",
    "    face_classifier = cv.CascadeClassifier('haarcascade_frontalface_default.xml')\n",
    "    model.eval()\n",
    "    model.to(device)\n",
    "\n",
    "\n",
    "\n",
    "    cap = cv.VideoCapture(0)\n",
    "\n",
    "    while True:\n",
    "        _, frame = cap.read()\n",
    "        faces = face_classifier.detectMultiScale(frame)\n",
    "        for (x,y,w,h) in faces:\n",
    "            cv.rectangle(frame, (x, y), (x+w, y+h), (0, 255, 255), 2)\n",
    "            roi = frame[y:y + h, x:x + w]\n",
    "            roi = cv.resize(roi, (48, 48), interpolation=cv.INTER_AREA)\n",
    "\n",
    "\n",
    "\n",
    "            if np.sum([roi]) != 0:\n",
    "                roi = data['other'](Image.fromarray(roi))\n",
    "                roi = roi.reshape((1, roi.shape[0], roi.shape[1], roi.shape[2])).to(device)\n",
    "                prediction = model(roi)\n",
    "                label = label_class[torch.max(prediction, 1).indices.item()]\n",
    "                label_position = (x, y)\n",
    "                cv.putText(frame, label, label_position, cv.FONT_HERSHEY_SIMPLEX, 1, (0, 255, 0), 2)\n",
    "            else:\n",
    "                cv.putText(frame, 'No Faces', (30, 80), cv.FONT_HERSHEY_SIMPLEX, 1, (0, 255, 0), 2)\n",
    "        cv.imshow('Emotion Detector',frame)\n",
    "        if cv.waitKey(1) & 0xFF == ord('q'):\n",
    "            break\n",
    "\n",
    "    cap.release()\n",
    "    cv.destroyAllWindows()"
   ]
  },
  {
   "cell_type": "code",
   "execution_count": null,
   "id": "6a85a5b3",
   "metadata": {},
   "outputs": [],
   "source": [
    "resnet = models.resnet18(weights='DEFAULT')\n",
    "\n",
    "for param in resnet.parameters():\n",
    "    param.requires_grad = False\n",
    "    \n",
    "resnet.fc = nn.Sequential(\n",
    "    nn.Dropout(0.5),\n",
    "    nn.Linear(resnet.fc.in_features, 7),\n",
    "    nn.Softmax(dim=1)\n",
    ")\n",
    "resnet = resnet.to(device)\n",
    "\n",
    "\n",
    "EPOCH = 30\n",
    "criterion = nn.CrossEntropyLoss()\n",
    "opt = optim.Adam(resnet.parameters(), lr = 0.001)\n",
    "\n",
    "resnet_trained, history = train_model(dataloaders['Others'], resnet, criterion, opt, EPOCH)"
   ]
  },
  {
   "cell_type": "code",
   "execution_count": null,
   "id": "92ddcbd9",
   "metadata": {},
   "outputs": [],
   "source": [
    "torch.save(resnet_trained, './model/resnet.pth')\n",
    "plot_loss_acc(history)"
   ]
  },
  {
   "cell_type": "code",
   "execution_count": null,
   "id": "b5c9ee80",
   "metadata": {},
   "outputs": [],
   "source": [
    "model = models.vgg11_bn(weights='DEFAULT')\n",
    "for params in model.parameters():\n",
    "    params.requires_grad = False\n",
    "\n",
    "model.classifier = nn.Sequential(\n",
    "    nn.Linear(in_features=25088, out_features=4096, bias=True),\n",
    "    nn.ReLU(inplace=True),\n",
    "    nn.Dropout(p=0.5, inplace=False),\n",
    "    nn.Linear(in_features=4096, out_features=7, bias=True))\n",
    "\n",
    "model = model.to(device)\n",
    "\n",
    "\n",
    "opt = optim.Adam(model.parameters(), lr = 0.001)\n",
    "criterion = nn.CrossEntropyLoss()\n",
    "\n",
    "EPOCH = 10\n",
    "model_trained, history = train_model(dataloaders['Others'], model, criterion, opt, EPOCH)"
   ]
  },
  {
   "cell_type": "code",
   "execution_count": null,
   "id": "8cb58148",
   "metadata": {},
   "outputs": [],
   "source": [
    "torch.save(model_trained, './model/vgg.pth')\n",
    "plot_loss_acc(history)"
   ]
  },
  {
   "cell_type": "code",
   "execution_count": 13,
   "id": "d74cc7f6",
   "metadata": {},
   "outputs": [],
   "source": [
    "def evaluate(model, data, draw_heatmap=True):\n",
    "    y = []\n",
    "    y_pred = []\n",
    "    model.eval()\n",
    "    \n",
    "    with tqdm(data, unit='batch', position=0, leave=True) as pbar:\n",
    "        for img, lbl in pbar:\n",
    "\n",
    "            pbar.set_description(f\"Evaluating\")\n",
    "\n",
    "            img = img.to(device)\n",
    "            lbl = lbl.to(device)\n",
    "            outputs = model(img)\n",
    "            _, preds = torch.max(outputs, 1)\n",
    "            y = y + [*np.array(lbl.cpu())]\n",
    "            y_pred = y_pred + [*np.array(preds.cpu())]\n",
    "    \n",
    "    print(classification_report(y, y_pred))\n",
    "    print()\n",
    "    \n",
    "    classes = list(class_label.keys())\n",
    "    \n",
    "    if draw_heatmap:\n",
    "        conf_mat = metrics.confusion_matrix(y, y_pred)\n",
    "        _, ax = plt.subplots(figsize=(7,7))\n",
    "        s = sns.heatmap(conf_mat,\n",
    "                    square=True,\n",
    "                    annot=True,\n",
    "                    fmt='d',\n",
    "                    cbar=False,\n",
    "                    xticklabels=classes,\n",
    "                    yticklabels=classes, ax=ax)\n",
    "        s.set_xlabel('Ground Truth')\n",
    "        s.set_ylabel('Predicted')"
   ]
  },
  {
   "cell_type": "code",
   "execution_count": 22,
   "id": "25b478fe",
   "metadata": {},
   "outputs": [],
   "source": [
    "vgg_path = './model/vgg.pth'\n",
    "resnet_path = './model/resnet.pth'\n",
    "cnn_path = './model/model.pth'\n",
    "\n",
    "vgg = torch.load(vgg_path)\n",
    "resnet = torch.load(resnet_path)\n",
    "cnn = torch.load(cnn_path)"
   ]
  },
  {
   "cell_type": "code",
   "execution_count": 24,
   "id": "7964006c",
   "metadata": {},
   "outputs": [
    {
     "data": {
      "application/vnd.jupyter.widget-view+json": {
       "model_id": "01bc84a47e27466e9ead3805c439456e",
       "version_major": 2,
       "version_minor": 0
      },
      "text/plain": [
       "  0%|          | 0/56 [00:00<?, ?batch/s]"
      ]
     },
     "metadata": {},
     "output_type": "display_data"
    },
    {
     "name": "stdout",
     "output_type": "stream",
     "text": [
      "              precision    recall  f1-score   support\n",
      "\n",
      "           0       0.48      0.45      0.46       960\n",
      "           1       1.00      0.08      0.15       111\n",
      "           2       0.46      0.27      0.34      1018\n",
      "           3       0.72      0.85      0.78      1825\n",
      "           4       0.52      0.62      0.56      1216\n",
      "           5       0.46      0.48      0.47      1139\n",
      "           6       0.73      0.68      0.70       797\n",
      "\n",
      "    accuracy                           0.58      7066\n",
      "   macro avg       0.62      0.49      0.50      7066\n",
      "weighted avg       0.58      0.58      0.57      7066\n",
      "\n",
      "\n"
     ]
    },
    {
     "data": {
      "image/png": "[encoded data removed]",
      "text/plain": [
       "<Figure size 700x700 with 1 Axes>"
      ]
     },
     "metadata": {},
     "output_type": "display_data"
    }
   ],
   "source": [
    "evaluate(vgg, dataloaders['Others']['validation'])"
   ]
  },
  {
   "cell_type": "code",
   "execution_count": 25,
   "id": "ffda44a3",
   "metadata": {},
   "outputs": [
    {
     "data": {
      "application/vnd.jupyter.widget-view+json": {
       "model_id": "b6dc1b158e574280810a8f71bd8b8f83",
       "version_major": 2,
       "version_minor": 0
      },
      "text/plain": [
       "  0%|          | 0/56 [00:00<?, ?batch/s]"
      ]
     },
     "metadata": {},
     "output_type": "display_data"
    },
    {
     "name": "stdout",
     "output_type": "stream",
     "text": [
      "              precision    recall  f1-score   support\n",
      "\n",
      "           0       0.35      0.10      0.15       960\n",
      "           1       0.00      0.00      0.00       111\n",
      "           2       0.21      0.06      0.09      1018\n",
      "           3       0.33      0.88      0.48      1825\n",
      "           4       0.36      0.33      0.34      1216\n",
      "           5       0.41      0.17      0.24      1139\n",
      "           6       0.00      0.00      0.00       797\n",
      "\n",
      "    accuracy                           0.33      7066\n",
      "   macro avg       0.24      0.22      0.19      7066\n",
      "weighted avg       0.29      0.33      0.26      7066\n",
      "\n",
      "\n"
     ]
    },
    {
     "name": "stderr",
     "output_type": "stream",
     "text": [
      "c:\\Users\\moham\\AppData\\Local\\Programs\\Python\\Python39\\lib\\site-packages\\sklearn\\metrics\\_classification.py:1344: UndefinedMetricWarning: Precision and F-score are ill-defined and being set to 0.0 in labels with no predicted samples. Use `zero_division` parameter to control this behavior.\n",
      "  _warn_prf(average, modifier, msg_start, len(result))\n",
      "c:\\Users\\moham\\AppData\\Local\\Programs\\Python\\Python39\\lib\\site-packages\\sklearn\\metrics\\_classification.py:1344: UndefinedMetricWarning: Precision and F-score are ill-defined and being set to 0.0 in labels with no predicted samples. Use `zero_division` parameter to control this behavior.\n",
      "  _warn_prf(average, modifier, msg_start, len(result))\n",
      "c:\\Users\\moham\\AppData\\Local\\Programs\\Python\\Python39\\lib\\site-packages\\sklearn\\metrics\\_classification.py:1344: UndefinedMetricWarning: Precision and F-score are ill-defined and being set to 0.0 in labels with no predicted samples. Use `zero_division` parameter to control this behavior.\n",
      "  _warn_prf(average, modifier, msg_start, len(result))\n"
     ]
    },
    {
     "data": {
      "image/png": "[encoded data removed]",
      "text/plain": [
       "<Figure size 700x700 with 1 Axes>"
      ]
     },
     "metadata": {},
     "output_type": "display_data"
    }
   ],
   "source": [
    "evaluate(resnet, dataloaders['Others']['validation'])"
   ]
  },
  {
   "cell_type": "code",
   "execution_count": 23,
   "id": "b6bde684",
   "metadata": {},
   "outputs": [
    {
     "data": {
      "application/vnd.jupyter.widget-view+json": {
       "model_id": "a5ad14d0cfc94a1786fcf8c13b9f7d32",
       "version_major": 2,
       "version_minor": 0
      },
      "text/plain": [
       "  0%|          | 0/56 [00:00<?, ?batch/s]"
      ]
     },
     "metadata": {},
     "output_type": "display_data"
    },
    {
     "name": "stdout",
     "output_type": "stream",
     "text": [
      "              precision    recall  f1-score   support\n",
      "\n",
      "           0       0.58      0.51      0.55       960\n",
      "           1       0.80      0.32      0.46       111\n",
      "           2       0.52      0.37      0.44      1018\n",
      "           3       0.82      0.88      0.85      1825\n",
      "           4       0.53      0.69      0.60      1216\n",
      "           5       0.49      0.51      0.50      1139\n",
      "           6       0.78      0.69      0.73       797\n",
      "\n",
      "    accuracy                           0.63      7066\n",
      "   macro avg       0.65      0.57      0.59      7066\n",
      "weighted avg       0.64      0.63      0.63      7066\n",
      "\n",
      "\n"
     ]
    },
    {
     "data": {
      "image/png": "[encoded data removed]",
      "text/plain": [
       "<Figure size 700x700 with 1 Axes>"
      ]
     },
     "metadata": {},
     "output_type": "display_data"
    }
   ],
   "source": [
    "evaluate(cnn, dataloaders['Model']['validation'])"
   ]
  },
  {
   "cell_type": "code",
   "execution_count": null,
   "id": "8af600be",
   "metadata": {},
   "outputs": [],
   "source": [
    "renderer(cnn, data_transforms['Model'])"
   ]
  },
  {
   "cell_type": "code",
   "execution_count": 18,
   "id": "2c9a14c8",
   "metadata": {},
   "outputs": [],
   "source": [
    "# model_graph = draw_graph(Model(3), input_size=(1, 3, 48, 48), expand_nested=True)\n",
    "# model_graph.visual_graph"
   ]
  },
  {
   "cell_type": "code",
   "execution_count": null,
   "id": "082cfeb0",
   "metadata": {},
   "outputs": [],
   "source": []
  }
 ],
 "metadata": {
  "kernelspec": {
   "display_name": "Python 3 (ipykernel)",
   "language": "python",
   "name": "python3"
  },
  "language_info": {
   "codemirror_mode": {
    "name": "ipython",
    "version": 3
   },
   "file_extension": ".py",
   "mimetype": "text/x-python",
   "name": "python",
   "nbconvert_exporter": "python",
   "pygments_lexer": "ipython3",
   "version": "3.9.12"
  }
 },
 "nbformat": 4,
 "nbformat_minor": 5
}
